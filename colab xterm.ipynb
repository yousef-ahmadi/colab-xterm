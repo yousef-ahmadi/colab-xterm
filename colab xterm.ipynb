{
  "nbformat": 4,
  "nbformat_minor": 0,
  "metadata": {
    "colab": {
      "name": "colab_xterm (1).ipynb",
      "provenance": [],
      "collapsed_sections": []
    },
    "kernelspec": {
      "name": "python3",
      "display_name": "Python 3"
    },
    "language_info": {
      "name": "python"
    },
    "accelerator": "GPU"
  },
  "cells": [
    {
      "cell_type": "code",
      "source": [
        "#@title <br><b><center>Colab Xterm</center><b>\n",
        "\n",
        "import IPython\n",
        "from IPython.display import clear_output\n",
        "from google.colab import output\n",
        "\n",
        "display(IPython.display.Javascript('''\n",
        "const ClickConnect = async ()=> { \n",
        "  try{\n",
        "     console.log('Working') \n",
        "     document\n",
        "       .querySelector('#top-toolbar > colab-connect-button') \n",
        "       .shadowRoot.querySelector('#connect') \n",
        "       .click() \n",
        "  } \n",
        "  catch(err){\n",
        "   console.log(\"No button\")\n",
        "   }\n",
        "}\n",
        "intervalTiming = setInterval(ClickConnect, 120000)\n",
        "'''))\n",
        "\n",
        "clear_output()\n",
        "\n",
        "!nvidia-smi -L\n",
        "!pip3 install linus_colab_ssh &> /dev/null\n",
        "from colab_ssh import setup_ssh, loop_forever\n",
        "!pip install colab-xterm &> /dev/null\n",
        "%load_ext colabxterm\n",
        "%xterm\n",
        "loop_forever()"
      ],
      "metadata": {
        "id": "qnz_zEcp5zAJ",
        "cellView": "form"
      },
      "execution_count": null,
      "outputs": []
    }
  ]
}